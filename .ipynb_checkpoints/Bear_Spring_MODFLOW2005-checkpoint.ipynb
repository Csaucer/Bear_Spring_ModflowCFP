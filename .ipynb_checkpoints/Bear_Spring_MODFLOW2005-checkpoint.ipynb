{
 "cells": [
  {
   "cell_type": "markdown",
   "id": "0ebc3c8e",
   "metadata": {},
   "source": [
    "# This notebook outlines the creation of a MODFLOW-2005 model of Bear Spring"
   ]
  },
  {
   "cell_type": "markdown",
   "id": "100a4df1",
   "metadata": {},
   "source": [
    "### As of 1/11/23, this notebook does not contain any implementation of CFP. That may be added to this notebook or formed in a second notebook at some point in the future."
   ]
  },
  {
   "cell_type": "code",
   "execution_count": 3,
   "id": "5c53c98a",
   "metadata": {},
   "outputs": [],
   "source": [
    "import numpy\n",
    "import flopy\n",
    "import matplotlib.pyplot as plt"
   ]
  }
 ],
 "metadata": {
  "kernelspec": {
   "display_name": "Python 3 (ipykernel)",
   "language": "python",
   "name": "python3"
  },
  "language_info": {
   "codemirror_mode": {
    "name": "ipython",
    "version": 3
   },
   "file_extension": ".py",
   "mimetype": "text/x-python",
   "name": "python",
   "nbconvert_exporter": "python",
   "pygments_lexer": "ipython3",
   "version": "3.10.8"
  }
 },
 "nbformat": 4,
 "nbformat_minor": 5
}
